{
 "cells": [
  {
   "cell_type": "markdown",
   "id": "842160cd",
   "metadata": {},
   "source": [
    "Pawan Chaudhary"
   ]
  },
  {
   "cell_type": "markdown",
   "id": "137deb85",
   "metadata": {},
   "source": [
    "# 1 Understanding Data Strucutes\n",
    "\n",
    " A mutable object can be altered after it is created, where the changes occur in the same memory address whereas an immutable object cannot be altered after it is created, which means in order to make changes the immutable object will have to create a new object.  \n",
    "\n",
    "Lists are a mutable data structure which allows users to make changes after its creation. For instance, a to-do list allows us to add, delete or modify its contents. \n",
    "\n",
    "Tuples are an immutable data structure which remains fixed after its creation allowing no alteration. For instance, tuples are generally used to store read-only data like mathematical constants. "
   ]
  },
  {
   "cell_type": "markdown",
   "id": "fa939f66",
   "metadata": {},
   "source": [
    "# 2 Working with Data Structures"
   ]
  },
  {
   "cell_type": "code",
   "execution_count": null,
   "id": "620231ab",
   "metadata": {},
   "outputs": [
    {
     "name": "stdout",
     "output_type": "stream",
     "text": [
      "[1200, 850, 1150, 950]\n"
     ]
    }
   ],
   "source": [
    "chaudhary_sales_q1 = [1200, 850, 1150, 950]\n",
    "print(f\"{chaudhary_sales_q1}\")"
   ]
  },
  {
   "cell_type": "code",
   "execution_count": 10,
   "id": "a426d857",
   "metadata": {},
   "outputs": [],
   "source": [
    "import numpy as np"
   ]
  },
  {
   "cell_type": "code",
   "execution_count": null,
   "id": "c2aa585a",
   "metadata": {},
   "outputs": [
    {
     "name": "stdout",
     "output_type": "stream",
     "text": [
      "The mean value of Sales q1 is: 1037.5\n"
     ]
    }
   ],
   "source": [
    "# calculating mean\n",
    "\n",
    "mean_sales_q1 = np.mean(chaudhary_sales_q1)\n",
    "print(f\"The mean value of sales q1 is: {mean_sales_q1}\")"
   ]
  },
  {
   "cell_type": "code",
   "execution_count": 12,
   "id": "9f722190",
   "metadata": {},
   "outputs": [
    {
     "name": "stdout",
     "output_type": "stream",
     "text": [
      "The median value of sales q1 is: 1050.0\n"
     ]
    }
   ],
   "source": [
    "# calculating median\n",
    "\n",
    "median_sales_q1 = np.median(chaudhary_sales_q1)\n",
    "print(f\"The median value of sales q1 is: {median_sales_q1}\")"
   ]
  },
  {
   "cell_type": "code",
   "execution_count": 15,
   "id": "7f9b123d",
   "metadata": {},
   "outputs": [
    {
     "name": "stdout",
     "output_type": "stream",
     "text": [
      "[1200, 850, 1150, 950, 1300, 1300]\n"
     ]
    }
   ],
   "source": [
    "# adjusting values\n",
    "\n",
    "adjusted_sales_q1 = chaudhary_sales_q1.copy()\n",
    "adjusted_sales_q1.append(1300)\n",
    "print(f\"{adjusted_sales_q1}\")"
   ]
  },
  {
   "cell_type": "code",
   "execution_count": 23,
   "id": "bcd46b53",
   "metadata": {},
   "outputs": [
    {
     "name": "stdout",
     "output_type": "stream",
     "text": [
      "The new mean value of sales q1 is: 1125.0\n"
     ]
    }
   ],
   "source": [
    "# re-calculated mean\n",
    "\n",
    "new_mean_sales_q1 = np.mean(adjusted_sales_q1)\n",
    "print(f\"The new mean value of sales q1 is: {new_mean_sales_q1}\")"
   ]
  },
  {
   "cell_type": "code",
   "execution_count": 24,
   "id": "3c4dfd5c",
   "metadata": {},
   "outputs": [
    {
     "name": "stdout",
     "output_type": "stream",
     "text": [
      "The new median value of sales q1 is: 1175.0\n"
     ]
    }
   ],
   "source": [
    "# re-calculated median\n",
    "\n",
    "new_median_sales_q1 = np.median(adjusted_sales_q1)\n",
    "print(f\"The new median value of sales q1 is: {new_median_sales_q1}\")"
   ]
  },
  {
   "cell_type": "markdown",
   "id": "c51d8272",
   "metadata": {},
   "source": [
    "# 3 Conditional Logic"
   ]
  },
  {
   "cell_type": "code",
   "execution_count": null,
   "id": "054cf79c",
   "metadata": {},
   "outputs": [
    {
     "name": "stdout",
     "output_type": "stream",
     "text": [
      "[78, 85, 62, 90, 88]\n"
     ]
    }
   ],
   "source": [
    "performance_five_employee = [78, 85, 62, 90, 88]\n",
    "print(f\"{performance_five_employee}\")"
   ]
  },
  {
   "cell_type": "code",
   "execution_count": 36,
   "id": "1001e1b5",
   "metadata": {},
   "outputs": [],
   "source": [
    "# function for returning distribution of performance ratings\n",
    "\n",
    "def distribution(performance_five_employee):\n",
    "    performance_distribution = {\n",
    "        \"Excellent\": 0,\n",
    "        \"Good\": 0,\n",
    "        \"Satisfactory\": 0,\n",
    "        \"Needs Improvement\": 0,\n",
    "        \"Unsatisfactory\": 0,\n",
    "    }\n",
    "\n",
    "\n",
    "    for i in range (len(performance_five_employee)): \n",
    "        if performance_five_employee[i] >= 90:\n",
    "            performance_distribution[\"Excellent\"] += 1\n",
    "        elif 80 <= performance_five_employee[i] <= 89:\n",
    "            performance_distribution[\"Good\"] += 1\n",
    "        elif 70 <= performance_five_employee[i] <= 79:\n",
    "            performance_distribution[\"Satisfactory\"] += 1\n",
    "        elif 60 <= performance_five_employee[i] <= 69:\n",
    "            performance_distribution[\"Needs Improvement\"] += 1\n",
    "        else:\n",
    "            performance_distribution[\"Unsatisfactory\"] += 1\n",
    "\n",
    "    return performance_distribution"
   ]
  },
  {
   "cell_type": "code",
   "execution_count": 35,
   "id": "1b0ebfbd",
   "metadata": {},
   "outputs": [
    {
     "name": "stdout",
     "output_type": "stream",
     "text": [
      "{'Excellent': 1, 'Good': 2, 'Satisfactory': 1, 'Needs Improvement': 1, 'Unsatisfactory': 0}\n"
     ]
    }
   ],
   "source": [
    "ratings = distribution(performance_five_employee)\n",
    "print(f\"{ratings}\")"
   ]
  },
  {
   "cell_type": "markdown",
   "id": "71a9e274",
   "metadata": {},
   "source": [
    "# 4 Data Cleaning"
   ]
  },
  {
   "cell_type": "markdown",
   "id": "55864564",
   "metadata": {},
   "source": [
    "I learned how to remove all the punctuations from geeksforgeeks. Here is the reference site: https://www.geeksforgeeks.org/python/python-remove-punctuation-from-string/"
   ]
  },
  {
   "cell_type": "code",
   "execution_count": null,
   "id": "601d065c",
   "metadata": {},
   "outputs": [
    {
     "name": "stdout",
     "output_type": "stream",
     "text": [
      "Excellent service but the product is too expensive Great customer care\n"
     ]
    }
   ],
   "source": [
    "#1 Removing punctuation\n",
    "\n",
    "import re\n",
    "\n",
    "feedback = \"Excellent! service; but the product is too expensive. Great, customer care.\"\n",
    "cleaned_feedback = re.sub(r'[^\\w\\s]', '', feedback)\n",
    "print(cleaned_feedback)\n"
   ]
  },
  {
   "cell_type": "code",
   "execution_count": 49,
   "id": "77526569",
   "metadata": {},
   "outputs": [
    {
     "name": "stdout",
     "output_type": "stream",
     "text": [
      "excellent service but the product is too expensive great customer care\n"
     ]
    }
   ],
   "source": [
    "#2 Convering all text to lowercase\n",
    "\n",
    "cleaned_lower_feedback = cleaned_feedback.lower()\n",
    "print(f\"{cleaned_lower_feedback}\")"
   ]
  },
  {
   "cell_type": "code",
   "execution_count": 52,
   "id": "ac2a984e",
   "metadata": {},
   "outputs": [
    {
     "name": "stdout",
     "output_type": "stream",
     "text": [
      "['excellent', 'service', 'but', 'the', 'product', 'is', 'too', 'expensive', 'great', 'customer', 'care']\n"
     ]
    }
   ],
   "source": [
    "#3 Splitting the cleaned text into individual words\n",
    "\n",
    "cleaned_lower_split_feedback = cleaned_lower_feedback.split()\n",
    "print(f\"{cleaned_lower_split_feedback}\")"
   ]
  },
  {
   "cell_type": "code",
   "execution_count": 54,
   "id": "4c8ebc27",
   "metadata": {},
   "outputs": [
    {
     "name": "stdout",
     "output_type": "stream",
     "text": [
      "Final cleaned feedback with unique words is: {'care', 'great', 'too', 'expensive', 'the', 'product', 'service', 'but', 'customer', 'is', 'excellent'}\n"
     ]
    }
   ],
   "source": [
    "# Identifying unique words \n",
    "# using set() as it helps it helps removing duplicate values\n",
    "\n",
    "cleaned_final = set(cleaned_lower_split_feedback)\n",
    "print(f\"Final cleaned feedback with unique words is: {cleaned_final}\")"
   ]
  },
  {
   "cell_type": "markdown",
   "id": "d0d75843",
   "metadata": {},
   "source": [
    "# 5 Extra"
   ]
  },
  {
   "cell_type": "code",
   "execution_count": 57,
   "id": "0fe8dcf6",
   "metadata": {},
   "outputs": [
    {
     "name": "stdout",
     "output_type": "stream",
     "text": [
      "Department and Expenses Dictionary: {'Marketing': [11000, 15000, 18000], 'Development': [28000, 11500, 17090], 'Operations': [56000, 52000, 49000], 'Human Resources': [9000, 4000, 7000], 'Information Technology': [70000, 68000, 67000]}\n"
     ]
    }
   ],
   "source": [
    "# department dictionary\n",
    "\n",
    "departments = {\n",
    "    \"Marketing\": [11000, 15000, 18000],\n",
    "    \"Development\": [28000, 11500, 17090],\n",
    "    \"Operations\": [56000, 52000, 49000],\n",
    "    \"Human Resources\": [9000, 4000, 7000],\n",
    "    \"Information Technology\": [70000, 68000, 67000],\n",
    "}\n",
    "\n",
    "print(f\"Department and Expenses Dictionary: {departments}\")"
   ]
  },
  {
   "cell_type": "code",
   "execution_count": 66,
   "id": "1c07307d",
   "metadata": {},
   "outputs": [
    {
     "name": "stdout",
     "output_type": "stream",
     "text": [
      "Department: Marketing\n",
      "Total Sales: 44000\n",
      "Average Sales: 14666.666666666666\n",
      "--------------------------------\n",
      "Department: Development\n",
      "Total Sales: 56590\n",
      "Average Sales: 18863.333333333332\n",
      "--------------------------------\n",
      "Department: Operations\n",
      "Total Sales: 157000\n",
      "Average Sales: 52333.333333333336\n",
      "--------------------------------\n",
      "Department: Human Resources\n",
      "Total Sales: 20000\n",
      "Average Sales: 6666.666666666667\n",
      "--------------------------------\n",
      "Department: Information Technology\n",
      "Total Sales: 205000\n",
      "Average Sales: 68333.33333333333\n",
      "--------------------------------\n"
     ]
    }
   ],
   "source": [
    "# function to calculate sum and average\n",
    "\n",
    "\n",
    "def expenses(departments):\n",
    "    for deparment, expenses in departments.items():\n",
    "        total_sales = sum(expenses)\n",
    "        average_sales = total_sales/len(expenses)\n",
    "        print(f\"Department: {deparment}\")\n",
    "        print(f\"Total Sales: {total_sales}\")\n",
    "        print(f\"Average Sales: {average_sales}\")\n",
    "        print(f\"--------------------------------\")\n",
    "\n",
    "\n",
    "expenses(departments)"
   ]
  },
  {
   "cell_type": "code",
   "execution_count": null,
   "id": "a22f7092",
   "metadata": {},
   "outputs": [
    {
     "name": "stdout",
     "output_type": "stream",
     "text": [
      "[11000, 15000, 18000]\n"
     ]
    }
   ],
   "source": [
    "# accessing marketing expenses \n",
    "\n",
    "marketing_expense = departments[\"Marketing\"]\n",
    "print(f\"{marketing_expense}\")"
   ]
  },
  {
   "cell_type": "code",
   "execution_count": null,
   "id": "05e5e751",
   "metadata": {},
   "outputs": [
    {
     "name": "stdout",
     "output_type": "stream",
     "text": [
      "Updated Marketing Expenses: [12649.999999999998, 17250.0, 20700.0]\n"
     ]
    }
   ],
   "source": [
    "# updating marketing expenses \n",
    "\n",
    "new_marketing_expense=[]\n",
    "for exp in marketing_expense:\n",
    "    increased_expense = exp * 1.15\n",
    "    new_marketing_expense.append(increased_expense)\n",
    "\n",
    "print(f\"Updated Marketing Expenses: {new_marketing_expense}\")"
   ]
  }
 ],
 "metadata": {
  "kernelspec": {
   "display_name": "Python 3",
   "language": "python",
   "name": "python3"
  },
  "language_info": {
   "codemirror_mode": {
    "name": "ipython",
    "version": 3
   },
   "file_extension": ".py",
   "mimetype": "text/x-python",
   "name": "python",
   "nbconvert_exporter": "python",
   "pygments_lexer": "ipython3",
   "version": "3.13.7"
  }
 },
 "nbformat": 4,
 "nbformat_minor": 5
}
