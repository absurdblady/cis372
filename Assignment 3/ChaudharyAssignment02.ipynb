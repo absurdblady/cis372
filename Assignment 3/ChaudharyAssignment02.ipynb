{
 "cells": [
  {
   "cell_type": "markdown",
   "id": "a64e4796",
   "metadata": {},
   "source": [
    "# Pawan Chaudhary"
   ]
  },
  {
   "cell_type": "markdown",
   "id": "3d077bd7",
   "metadata": {},
   "source": [
    "1. Understanding Numpy\n",
    "\n",
    "NumPy slicing creates a view of the same memory rather than a copy. A change in the slice also changes the original array. Python lists handle slicing differently because they usually make a copy which is why small edits in NumPy slices can directly affect the data and cause problems during analysis."
   ]
  },
  {
   "cell_type": "markdown",
   "id": "248279da",
   "metadata": {},
   "source": [
    "2. Establishing Analytical Reproductibility"
   ]
  },
  {
   "cell_type": "code",
   "execution_count": 2,
   "id": "8625b1e7",
   "metadata": {},
   "outputs": [],
   "source": [
    "import numpy as np"
   ]
  },
  {
   "cell_type": "code",
   "execution_count": 3,
   "id": "f1dae711",
   "metadata": {},
   "outputs": [],
   "source": [
    "np.random.seed(2023)"
   ]
  },
  {
   "cell_type": "markdown",
   "id": "5952500b",
   "metadata": {},
   "source": [
    "Setting a random seed initializes the random number generator to a fixed starting point, ensuring the same sequence of random values is produced each time. This is important for reproducible data analysis because it allows experiments and results to be consistently replicated."
   ]
  },
  {
   "cell_type": "markdown",
   "id": "3d8f943c",
   "metadata": {},
   "source": [
    "3. Array Operations"
   ]
  },
  {
   "cell_type": "code",
   "execution_count": 20,
   "id": "d76e30c5",
   "metadata": {},
   "outputs": [
    {
     "name": "stdout",
     "output_type": "stream",
     "text": [
      "[[1200, 1300, 1250, 1400, 1350, 1500, 1600, 1700, 1650, 1750, 1800, 1900], [1000, 1100, 1150, 1200, 1250, 1300, 1400, 1450, 1500, 1550, 1600, 1650], [800, 900, 850, 950, 1000, 1050, 1100, 1150, 1200, 1250, 1300, 1350], [1500, 1600, 1550, 1650, 1700, 1750, 1800, 1850, 1900, 1950, 2000, 2100], [900, 950, 1000, 1050, 1100, 1150, 1200, 1250, 1300, 1350, 1400, 1450]]\n"
     ]
    }
   ],
   "source": [
    "# nested sequence representing initial budget allocation\n",
    "\n",
    "budget_data = [\n",
    "    [1200, 1300, 1250, 1400, 1350, 1500, 1600, 1700, 1650, 1750, 1800, 1900],\n",
    "    [1000, 1100, 1150, 1200, 1250, 1300, 1400, 1450, 1500, 1550, 1600, 1650],\n",
    "    [800, 900, 850, 950, 1000, 1050, 1100, 1150, 1200, 1250, 1300, 1350],\n",
    "    [1500, 1600, 1550, 1650, 1700, 1750, 1800, 1850, 1900, 1950, 2000, 2100],\n",
    "    [900, 950, 1000, 1050, 1100, 1150, 1200, 1250, 1300, 1350, 1400, 1450]\n",
    "]\n",
    "\n",
    "print(f\"{budget_data}\")"
   ]
  },
  {
   "cell_type": "code",
   "execution_count": 21,
   "id": "24fd6254",
   "metadata": {},
   "outputs": [],
   "source": [
    "# converting into NumPy array\n",
    "\n",
    "budget_array = np.array(budget_data)"
   ]
  },
  {
   "cell_type": "code",
   "execution_count": 22,
   "id": "615ea857",
   "metadata": {},
   "outputs": [
    {
     "name": "stdout",
     "output_type": "stream",
     "text": [
      "[[1200000 1300000 1250000 1400000 1350000 1500000 1600000 1700000 1650000\n",
      "  1750000 1800000 1900000]\n",
      " [1000000 1100000 1150000 1200000 1250000 1300000 1400000 1450000 1500000\n",
      "  1550000 1600000 1650000]\n",
      " [ 800000  900000  850000  950000 1000000 1050000 1100000 1150000 1200000\n",
      "  1250000 1300000 1350000]\n",
      " [1500000 1600000 1550000 1650000 1700000 1750000 1800000 1850000 1900000\n",
      "  1950000 2000000 2100000]\n",
      " [ 900000  950000 1000000 1050000 1100000 1150000 1200000 1250000 1300000\n",
      "  1350000 1400000 1450000]]\n"
     ]
    }
   ],
   "source": [
    "# budget data in thousands\n",
    "\n",
    "budget_array = budget_array * 1000\n",
    "print(f\"{budget_array}\")"
   ]
  },
  {
   "cell_type": "code",
   "execution_count": 23,
   "id": "443e7019",
   "metadata": {},
   "outputs": [
    {
     "name": "stdout",
     "output_type": "stream",
     "text": [
      "Shape: (5, 12)\n"
     ]
    }
   ],
   "source": [
    "# shape\n",
    "print(f\"Shape: {budget_array.shape}\")"
   ]
  },
  {
   "cell_type": "code",
   "execution_count": 24,
   "id": "017618c7",
   "metadata": {},
   "outputs": [
    {
     "name": "stdout",
     "output_type": "stream",
     "text": [
      "Data Type: int64\n"
     ]
    }
   ],
   "source": [
    "# data type\n",
    "print(f\"Data Type: {budget_array.dtype}\")"
   ]
  },
  {
   "cell_type": "code",
   "execution_count": 25,
   "id": "d1742ec9",
   "metadata": {},
   "outputs": [
    {
     "name": "stdout",
     "output_type": "stream",
     "text": [
      "Array Years: [2022 2023 2024 2025 2026]\n"
     ]
    }
   ],
   "source": [
    "# creating array of years 2022–2026\n",
    "ArrYears = np.arange(2022, 2027)\n",
    "print(f\"Array Years: {ArrYears}\")"
   ]
  },
  {
   "cell_type": "code",
   "execution_count": 26,
   "id": "aad6c124",
   "metadata": {},
   "outputs": [
    {
     "name": "stdout",
     "output_type": "stream",
     "text": [
      "Three Years: [2022 2023 2024]\n"
     ]
    }
   ],
   "source": [
    "# subsetting to first 3 years\n",
    "threeYears = ArrYears[:3] \n",
    "print(\"Three Years:\", threeYears)"
   ]
  },
  {
   "cell_type": "code",
   "execution_count": 28,
   "id": "f7d2a385",
   "metadata": {},
   "outputs": [
    {
     "name": "stdout",
     "output_type": "stream",
     "text": [
      "Selected Years: [2023 2024]\n"
     ]
    }
   ],
   "source": [
    "# further subset to get 2023 and 2024 \n",
    "selected_years = threeYears[1:3] \n",
    "print(f\"Selected Years: {selected_years}\")"
   ]
  },
  {
   "cell_type": "markdown",
   "id": "f79c3321",
   "metadata": {},
   "source": [
    "4. Impact Analysis"
   ]
  },
  {
   "cell_type": "code",
   "execution_count": 30,
   "id": "d216a935",
   "metadata": {},
   "outputs": [
    {
     "name": "stdout",
     "output_type": "stream",
     "text": [
      "Unforseen Additional Costs: \n",
      "[[0.11297233 0.0406923  0.06412089 0.07531276]\n",
      " [0.03681083 0.02079037 0.09098544 0.03917277]\n",
      " [0.07570508 0.18610639 0.15203194 0.15415285]\n",
      " [0.11934011 0.15832423 0.16206766 0.19611145]\n",
      " [0.17695705 0.02196023 0.16394215 0.06152258]]\n"
     ]
    }
   ],
   "source": [
    "# generating 5x4 random array for unforeseen additional costs with values between 0 and 0.2\n",
    "add_costs = np.random.rand(5,4) * 0.2\n",
    "print(f\"Unforseen Additional Costs: \\n{add_costs}\")"
   ]
  },
  {
   "cell_type": "code",
   "execution_count": 32,
   "id": "5ca3b3bf",
   "metadata": {},
   "outputs": [
    {
     "name": "stdout",
     "output_type": "stream",
     "text": [
      "Impact: \n",
      "[[1 0 1 1]\n",
      " [0 0 1 0]\n",
      " [1 1 1 1]\n",
      " [1 1 1 1]\n",
      " [1 0 1 1]]\n"
     ]
    }
   ],
   "source": [
    "# replacing values less than 0.05\n",
    "# 0 if < 0.5 and 1 if >= 0.05\n",
    "neg_impact = np.where(add_costs < 0.05, 0, 1)\n",
    "print(f\"Impact: \\n{neg_impact}\")"
   ]
  },
  {
   "cell_type": "code",
   "execution_count": 33,
   "id": "eafc18ca",
   "metadata": {},
   "outputs": [
    {
     "name": "stdout",
     "output_type": "stream",
     "text": [
      "Total additional costs for each department: \n",
      "[3 1 4 4 3]\n"
     ]
    }
   ],
   "source": [
    "# summing total additional costs for each department\n",
    "dept_add = neg_impact.sum(axis=1)\n",
    "print(f\"Total additional costs for each department: \\n{dept_add}\")"
   ]
  },
  {
   "cell_type": "markdown",
   "id": "0f3cbd61",
   "metadata": {},
   "source": [
    "5. Data Validation"
   ]
  },
  {
   "cell_type": "code",
   "execution_count": 34,
   "id": "1607d3f0",
   "metadata": {},
   "outputs": [],
   "source": [
    "departments = ['Infrastructure', 'Development', 'QA', 'Cybersecurity', 'Consulting']"
   ]
  },
  {
   "cell_type": "code",
   "execution_count": 35,
   "id": "8f2535cc",
   "metadata": {},
   "outputs": [
    {
     "name": "stdout",
     "output_type": "stream",
     "text": [
      "Both departments are included.\n"
     ]
    }
   ],
   "source": [
    "# checking if important departments are in the list \n",
    "\n",
    "if \"Cybersecurity\" in departments and \"Consulting\" in departments: \n",
    "    print(\"Both departments are included.\") \n",
    "else: \n",
    "    print(\"Department missing.\")"
   ]
  },
  {
   "cell_type": "markdown",
   "id": "dcadce1b",
   "metadata": {},
   "source": [
    "6. Financial Performance Evaluation"
   ]
  },
  {
   "cell_type": "code",
   "execution_count": null,
   "id": "fa572315",
   "metadata": {},
   "outputs": [
    {
     "name": "stdout",
     "output_type": "stream",
     "text": [
      "This quarter's mean: \n",
      "[1080000. 1170000. 1160000. 1250000. 1280000. 1350000. 1420000. 1480000.\n",
      " 1510000. 1570000. 1620000. 1690000.]\n"
     ]
    }
   ],
   "source": [
    "# calculating descriptive statistics\n",
    "\n",
    "\n",
    "# mean\n",
    "print(f\"Each quarter's mean: \\n{budget_array.mean(axis=0)}\")"
   ]
  },
  {
   "cell_type": "code",
   "execution_count": null,
   "id": "3a3e09b3",
   "metadata": {},
   "outputs": [
    {
     "name": "stdout",
     "output_type": "stream",
     "text": [
      "This quarter's standard deviation: \n",
      "[248193.47291982 256124.96949731 237486.84174076 250998.00796022\n",
      " 242074.3687382  250998.00796022 256124.96949731 263818.11916546\n",
      " 249799.91993594 256124.96949731 256124.96949731 278208.55486487]\n"
     ]
    }
   ],
   "source": [
    "# standard deviation\n",
    "print(f\"Each quarter's standard deviation: \\n{budget_array.std(axis=0)}\")"
   ]
  },
  {
   "cell_type": "code",
   "execution_count": null,
   "id": "cd719326",
   "metadata": {},
   "outputs": [
    {
     "name": "stdout",
     "output_type": "stream",
     "text": [
      "This quarter's variance: \n",
      "[6.16e+10 6.56e+10 5.64e+10 6.30e+10 5.86e+10 6.30e+10 6.56e+10 6.96e+10\n",
      " 6.24e+10 6.56e+10 6.56e+10 7.74e+10]\n"
     ]
    }
   ],
   "source": [
    "# variance\n",
    "print(f\"Each quarter's variance: \\n{budget_array.var(axis=0)}\")"
   ]
  },
  {
   "cell_type": "code",
   "execution_count": 40,
   "id": "1afadcde",
   "metadata": {},
   "outputs": [
    {
     "name": "stdout",
     "output_type": "stream",
     "text": [
      "Each quarter's minimum: \n",
      "[ 800000  900000  850000  950000 1000000 1050000 1100000 1150000 1200000\n",
      " 1250000 1300000 1350000]\n"
     ]
    }
   ],
   "source": [
    "# minimum\n",
    "print(f\"Each quarter's minimum: \\n{budget_array.min(axis=0)}\")"
   ]
  },
  {
   "cell_type": "code",
   "execution_count": 41,
   "id": "ae38a21b",
   "metadata": {},
   "outputs": [
    {
     "name": "stdout",
     "output_type": "stream",
     "text": [
      "This quarter's mean: \n",
      "[1500000 1600000 1550000 1650000 1700000 1750000 1800000 1850000 1900000\n",
      " 1950000 2000000 2100000]\n"
     ]
    }
   ],
   "source": [
    "# maximum\n",
    "print(f\"This quarter's mean: \\n{budget_array.max(axis=0)}\")"
   ]
  },
  {
   "cell_type": "code",
   "execution_count": 42,
   "id": "e796169c",
   "metadata": {},
   "outputs": [
    {
     "name": "stdout",
     "output_type": "stream",
     "text": [
      "Department Totals: [18400000 16150000 12900000 21350000 14100000]\n"
     ]
    }
   ],
   "source": [
    "# total spending for each department\n",
    "\n",
    "dept_total = budget_array.sum(axis=1)\n",
    "print(f\"Department Totals: {dept_total}\")"
   ]
  },
  {
   "cell_type": "code",
   "execution_count": null,
   "id": "56247e5d",
   "metadata": {},
   "outputs": [
    {
     "name": "stdout",
     "output_type": "stream",
     "text": [
      "The highest spending department: Cybersecurity\n"
     ]
    }
   ],
   "source": [
    "# finding the highest total spending for each department\n",
    "highest_spending = departments[np.argmax(dept_total)]\n",
    "print(f\"The highest spending department: {highest_spending}\")"
   ]
  },
  {
   "cell_type": "code",
   "execution_count": 44,
   "id": "16529cfc",
   "metadata": {},
   "outputs": [
    {
     "name": "stdout",
     "output_type": "stream",
     "text": [
      "The lowest spending department: QA\n"
     ]
    }
   ],
   "source": [
    "# finding the lowest total spending for each department\n",
    "lowest_spending = departments[np.argmin(dept_total)]\n",
    "print(f\"The lowest spending department: {lowest_spending}\")"
   ]
  },
  {
   "cell_type": "markdown",
   "id": "c411256a",
   "metadata": {},
   "source": [
    "7. Advanced Array Operations"
   ]
  },
  {
   "cell_type": "code",
   "execution_count": 48,
   "id": "bcf60508",
   "metadata": {},
   "outputs": [
    {
     "name": "stdout",
     "output_type": "stream",
     "text": [
      "The years and quarters of the project from 2021Q1 to 2023Q4: ['2021Q1' '2021Q2' '2021Q3' '2021Q4' '2022Q1' '2022Q2' '2022Q3' '2022Q4'\n",
      " '2023Q1' '2023Q2' '2023Q3' '2023Q4']\n"
     ]
    }
   ],
   "source": [
    "# array representing the years and quarters of the project from 2021Q1 to 2023Q4\n",
    "\n",
    "years_and_quarters = []\n",
    "for y in range(2021, 2024):\n",
    "    for q in range(1, 5):\n",
    "        years_and_quarters.append(f\"{y}Q{q}\")\n",
    "\n",
    "years_and_quarters = np.array(years_and_quarters)\n",
    "print(f\"The years and quarters of the project from 2021Q1 to 2023Q4: {years_and_quarters}\")\n"
   ]
  },
  {
   "cell_type": "code",
   "execution_count": 51,
   "id": "97cd1b66",
   "metadata": {},
   "outputs": [
    {
     "name": "stdout",
     "output_type": "stream",
     "text": [
      "Updated budget array: [[1200000 1300000 1250000 1400000 1633500 1815000 1600000 1700000 1650000\n",
      "  1750000 1800000 1900000]\n",
      " [1000000 1100000 1150000 1200000 1512500 1573000 1400000 1450000 1500000\n",
      "  1550000 1600000 1650000]\n",
      " [ 800000  900000  850000  950000 1210000 1270500 1100000 1150000 1200000\n",
      "  1250000 1300000 1350000]\n",
      " [1500000 1600000 1550000 1650000 2057000 2117500 1800000 1850000 1900000\n",
      "  1950000 2000000 2100000]\n",
      " [ 900000  950000 1000000 1050000 1331000 1391500 1200000 1250000 1300000\n",
      "  1350000 1400000 1450000]]\n"
     ]
    }
   ],
   "source": [
    "# for first two quarters of 2022, there is increase in budget by 10% across all departments\n",
    "# using [:, 4:6] because it selects all departments (rows) and only 2022 Q1–Q2 (cols 4 and 5)\n",
    "\n",
    "budget_array[:, 4:6] = budget_array[:, 4:6] * 1.10\n",
    "print(f\"Updated budget array: {budget_array}\")"
   ]
  }
 ],
 "metadata": {
  "kernelspec": {
   "display_name": "Python 3",
   "language": "python",
   "name": "python3"
  },
  "language_info": {
   "codemirror_mode": {
    "name": "ipython",
    "version": 3
   },
   "file_extension": ".py",
   "mimetype": "text/x-python",
   "name": "python",
   "nbconvert_exporter": "python",
   "pygments_lexer": "ipython3",
   "version": "3.13.7"
  }
 },
 "nbformat": 4,
 "nbformat_minor": 5
}
