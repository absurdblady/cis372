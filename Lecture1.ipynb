{
 "cells": [
  {
   "cell_type": "code",
   "execution_count": 1,
   "id": "deb65c05-7ed0-45f3-8a6d-102d41ef56c1",
   "metadata": {},
   "outputs": [
    {
     "name": "stdout",
     "output_type": "stream",
     "text": [
      "Hello\n"
     ]
    }
   ],
   "source": [
    "print(\"Hello\")"
   ]
  },
  {
   "cell_type": "code",
   "execution_count": 3,
   "id": "76c909e1-4df7-4338-9854-03c72ca81d36",
   "metadata": {},
   "outputs": [
    {
     "name": "stdout",
     "output_type": "stream",
     "text": [
      "Basic Tuple: (4, 5, 6)\n"
     ]
    }
   ],
   "source": [
    "#Tuples\n",
    "\n",
    "coordinates = (4,5,6)\n",
    "print(f\"Basic Tuple: {coordinates}\")"
   ]
  },
  {
   "cell_type": "code",
   "execution_count": 4,
   "id": "26c9a2df-bcd2-4c5a-99ae-4c6bb5b07927",
   "metadata": {},
   "outputs": [
    {
     "name": "stdout",
     "output_type": "stream",
     "text": [
      "Number topic: (4, 0, 2)\n",
      "String topic: ('s', 't', 'r', 'i', 'n', 'g')\n"
     ]
    }
   ],
   "source": [
    "#converting to a tuple\n",
    "\n",
    "numbers_tuple = tuple([4,0,2])\n",
    "string_tuple = tuple('string')\n",
    "print(f\"Number topic: {numbers_tuple}\")\n",
    "print(f\"String topic: {string_tuple}\")\n"
   ]
  },
  {
   "cell_type": "code",
   "execution_count": 5,
   "id": "67ab1bb9-c1eb-40da-af94-69cbc9738ce9",
   "metadata": {},
   "outputs": [
    {
     "name": "stdout",
     "output_type": "stream",
     "text": [
      "Third element: r\n"
     ]
    }
   ],
   "source": [
    "#accessing elements\n",
    "\n",
    "print(f\"Third element: {string_tuple[2]}\")"
   ]
  },
  {
   "cell_type": "code",
   "execution_count": 10,
   "id": "eac63d92-1927-4661-97b9-873fb3983a5d",
   "metadata": {},
   "outputs": [
    {
     "name": "stdout",
     "output_type": "stream",
     "text": [
      "Unpacked: var1=4, var2=5, var3=6\n"
     ]
    }
   ],
   "source": [
    "#unpack tuples\n",
    "\n",
    "a,b,c = coordinates\n",
    "print(f\"Unpacked: var1={a}, var2={b}, var3={c}\")"
   ]
  },
  {
   "cell_type": "code",
   "execution_count": 12,
   "id": "e68005c5-f7ff-4013-aa1b-93d4b8e2b8e4",
   "metadata": {},
   "outputs": [
    {
     "name": "stdout",
     "output_type": "stream",
     "text": [
      "x=1, y=2, z=3\n",
      "x=4, y=5, z=6\n",
      "x=7, y=8, z=9\n"
     ]
    }
   ],
   "source": [
    "#loop with unpacking\n",
    "\n",
    "data = [(1,2,3), (4,5,6), (7,8,9)]\n",
    "for x,y,z in data:\n",
    "    print(f\"x={x}, y={y}, z={z}\")\n",
    "    "
   ]
  },
  {
   "cell_type": "code",
   "execution_count": 13,
   "id": "94619677-f9fc-4c50-a349-618a0e64786b",
   "metadata": {},
   "outputs": [
    {
     "name": "stdout",
     "output_type": "stream",
     "text": [
      "count of 2s: 4\n"
     ]
    }
   ],
   "source": [
    "sample = (1,2,2,2,3,4,2)\n",
    "print(f\"count of 2s: {sample.count(2)}\")"
   ]
  },
  {
   "cell_type": "code",
   "execution_count": 37,
   "id": "2f10b811-2511-41c4-8cf0-20490a7d6155",
   "metadata": {},
   "outputs": [
    {
     "name": "stdout",
     "output_type": "stream",
     "text": [
      "Original List: ['apple', 'banana', 'orange']\n",
      "New List: ['apple', 'banana', 'orange', 'Guava']\n",
      "Fruit in position 2 of the List: banana\n",
      "Updated List: ['apple', 'strawberry', 'banana', 'orange', 'Guava']\n"
     ]
    }
   ],
   "source": [
    "fruit = [\"apple\", \"banana\", \"orange\"]\n",
    "print(f\"Original List: {fruit}\")\n",
    "\n",
    "fruit.append(\"Guava\")\n",
    "print(f\"New List: {fruit}\")\n",
    "\n",
    "print(f\"Fruit in position 2 of the List: {fruit[1]}\")\n",
    "\n",
    "fruit.insert(1, \"strawberry\")\n",
    "print(f\"Updated List: {fruit}\")\n"
   ]
  },
  {
   "cell_type": "code",
   "execution_count": 31,
   "id": "0bebca6f-5976-4bd5-8b61-4a9780a079a0",
   "metadata": {},
   "outputs": [
    {
     "name": "stdout",
     "output_type": "stream",
     "text": [
      "Is 'apple' in list? True\n"
     ]
    }
   ],
   "source": [
    "#check membership\n",
    "\n",
    "print(f\"Is 'apple' in list? {'apple' in fruit}\")"
   ]
  },
  {
   "cell_type": "code",
   "execution_count": 32,
   "id": "2882fbbf-5535-482d-bf6e-39daecf63d6f",
   "metadata": {},
   "outputs": [
    {
     "data": {
      "text/plain": [
       "[85, 92, 78, 96, 88]"
      ]
     },
     "execution_count": 32,
     "metadata": {},
     "output_type": "execute_result"
    }
   ],
   "source": [
    "# sorting\n",
    "\n",
    "scores = [85,92,78,96,88]\n",
    "scores"
   ]
  },
  {
   "cell_type": "code",
   "execution_count": 39,
   "id": "5b162e97-6c75-4325-8e04-18edbccb92e1",
   "metadata": {},
   "outputs": [
    {
     "data": {
      "text/plain": [
       "[78, 85, 88, 92, 96]"
      ]
     },
     "execution_count": 39,
     "metadata": {},
     "output_type": "execute_result"
    }
   ],
   "source": [
    "#in place sort\n",
    "\n",
    "scores.sort()\n",
    "scores"
   ]
  },
  {
   "cell_type": "code",
   "execution_count": 41,
   "id": "8864c63b-848d-49ec-8652-26f18d0e506e",
   "metadata": {},
   "outputs": [
    {
     "data": {
      "text/plain": [
       "[23, 19, 15, 11, 5]"
      ]
     },
     "execution_count": 41,
     "metadata": {},
     "output_type": "execute_result"
    }
   ],
   "source": [
    "new_sorted = sorted([15,19,23,11,5], reverse=True)\n",
    "new_sorted"
   ]
  },
  {
   "cell_type": "code",
   "execution_count": 43,
   "id": "583b5d52-8b32-4933-b9ca-a0c5398dc762",
   "metadata": {},
   "outputs": [
    {
     "data": {
      "text/plain": [
       "['Bob', 'Eve', 'Alice', 'Charlie']"
      ]
     },
     "execution_count": 43,
     "metadata": {},
     "output_type": "execute_result"
    }
   ],
   "source": [
    "names = ['Alice', 'Bob', 'Charlie', 'Eve']\n",
    "names.sort(key=len)\n",
    "names"
   ]
  },
  {
   "cell_type": "code",
   "execution_count": null,
   "id": "8ccb4024-aa6f-4595-b8fb-6a1b1507aad5",
   "metadata": {},
   "outputs": [],
   "source": []
  }
 ],
 "metadata": {
  "kernelspec": {
   "display_name": "anaconda-panel-2023.05-py310",
   "language": "python",
   "name": "conda-env-anaconda-panel-2023.05-py310-py"
  },
  "language_info": {
   "codemirror_mode": {
    "name": "ipython",
    "version": 3
   },
   "file_extension": ".py",
   "mimetype": "text/x-python",
   "name": "python",
   "nbconvert_exporter": "python",
   "pygments_lexer": "ipython3",
   "version": "3.11.5"
  }
 },
 "nbformat": 4,
 "nbformat_minor": 5
}
