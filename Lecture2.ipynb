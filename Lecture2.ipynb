{
 "cells": [
  {
   "cell_type": "code",
   "execution_count": 6,
   "id": "cc7be484-4efc-4086-840e-60449489f4d7",
   "metadata": {},
   "outputs": [
    {
     "data": {
      "text/plain": [
       "[0, 1, 2, 3, 4, 5, 6, 7, 8, 9]"
      ]
     },
     "execution_count": 6,
     "metadata": {},
     "output_type": "execute_result"
    }
   ],
   "source": [
    "#Slicing\n",
    "\n",
    "sequence = [0,1,2,3,4,5,6,7,8,9]\n",
    "sequence"
   ]
  },
  {
   "cell_type": "code",
   "execution_count": 7,
   "id": "946abbab-6b13-48e6-bcbc-cb3e96f18603",
   "metadata": {},
   "outputs": [
    {
     "name": "stdout",
     "output_type": "stream",
     "text": [
      "First 5 [0:5] [0, 1, 2, 3, 4]\n"
     ]
    }
   ],
   "source": [
    "print(f\"First 5 [0:5] {sequence[0:5]}\")"
   ]
  },
  {
   "cell_type": "code",
   "execution_count": 8,
   "id": "61ed479d-e46a-4160-bafd-2acdb2fcee16",
   "metadata": {},
   "outputs": [
    {
     "name": "stdout",
     "output_type": "stream",
     "text": [
      "Last 3 [-3:] [7, 8, 9]\n"
     ]
    }
   ],
   "source": [
    "print(f\"Last 3 [-3:] {sequence[-3:]}\")"
   ]
  },
  {
   "cell_type": "code",
   "execution_count": 9,
   "id": "c20eabe5-deec-446f-8d6c-bdcfb1103c09",
   "metadata": {},
   "outputs": [
    {
     "name": "stdout",
     "output_type": "stream",
     "text": [
      "Reverse [::-1] [9, 8, 7, 6, 5, 4, 3, 2, 1, 0]\n"
     ]
    }
   ],
   "source": [
    "print(f\"Reverse [::-1] {sequence[::-1]}\")"
   ]
  },
  {
   "cell_type": "code",
   "execution_count": 11,
   "id": "52ca6cf7-4511-4632-af14-60d53a83c61a",
   "metadata": {},
   "outputs": [],
   "source": [
    "# Enumerate"
   ]
  },
  {
   "cell_type": "code",
   "execution_count": 12,
   "id": "fa6925ff-4418-4c0e-99a4-3ae817c4817d",
   "metadata": {},
   "outputs": [
    {
     "name": "stdout",
     "output_type": "stream",
     "text": [
      "0: DSU\n",
      "1: Alabama\n",
      "2: Notre Dame\n"
     ]
    }
   ],
   "source": [
    "# enumerate adds indices to our values creating kv pair\n",
    "colleges  = ['DSU', 'Alabama', 'Notre Dame',]\n",
    "\n",
    "for i , college in enumerate(colleges):\n",
    "    print (f\"{i}: {college}\")"
   ]
  },
  {
   "cell_type": "code",
   "execution_count": 13,
   "id": "57c32f47-3446-4a7b-baf2-2ee5ec497837",
   "metadata": {},
   "outputs": [
    {
     "name": "stdout",
     "output_type": "stream",
     "text": [
      "Edwards (ANTMAN): 23.2 PPG\n",
      "Towns (KAT): 16.5 PPG\n",
      "Gobert (Stifle Tower): 8.8 PPG\n"
     ]
    }
   ],
   "source": [
    "# zip - combine sequence\n",
    "players = ['Edwards', 'Towns', 'Gobert']\n",
    "scores = [23.2, 16.5, 8.8]\n",
    "nicknames = ['ANTMAN', 'KAT', 'Stifle Tower']\n",
    "\n",
    "for name, score, nick in zip(players, scores, nicknames):\n",
    "    print(f\"{name} ({nick}): {score} PPG\")\n",
    "    "
   ]
  },
  {
   "cell_type": "code",
   "execution_count": 14,
   "id": "1276979e-2a3c-4fa1-8b94-19eaa06e34f5",
   "metadata": {},
   "outputs": [],
   "source": [
    "# Dictionary"
   ]
  },
  {
   "cell_type": "code",
   "execution_count": 15,
   "id": "af7f2581-f016-4def-b245-adc57adac96e",
   "metadata": {},
   "outputs": [
    {
     "data": {
      "text/plain": [
       "{'Espresso': 3, 'Late': 120, 'Mocha': 330}"
      ]
     },
     "execution_count": 15,
     "metadata": {},
     "output_type": "execute_result"
    }
   ],
   "source": [
    "# key-value pairs\n",
    "\n",
    "menu = {'Espresso': 3, 'Late':120, 'Mocha': 330}\n",
    "menu"
   ]
  },
  {
   "cell_type": "code",
   "execution_count": 18,
   "id": "2adb8b98-d0ef-449a-8318-ba8f925451b5",
   "metadata": {},
   "outputs": [
    {
     "name": "stdout",
     "output_type": "stream",
     "text": [
      "Has Espresso? True\n"
     ]
    }
   ],
   "source": [
    "print(f\"Has Espresso? {'Espresso' in menu}\")"
   ]
  },
  {
   "cell_type": "code",
   "execution_count": 20,
   "id": "b76cc36d-b5fb-4b78-951b-da8b61af8cfd",
   "metadata": {},
   "outputs": [
    {
     "name": "stdout",
     "output_type": "stream",
     "text": [
      "Updated Menu: {'Espresso': 3, 'Late': 120, 'Mocha': 330, 'Cappucino': 80, 'Americano': 5, 'Frappucino': 400}\n"
     ]
    }
   ],
   "source": [
    "menu['Cappucino'] = 80\n",
    "menu.update({'Americano':5, 'Frappucino': 400})\n",
    "print(f\"Updated Menu: {menu}\")"
   ]
  },
  {
   "cell_type": "code",
   "execution_count": 21,
   "id": "edabbdfb-0fad-461a-9a03-716c323b9bc1",
   "metadata": {},
   "outputs": [
    {
     "data": {
      "text/plain": [
       "dict_keys(['Espresso', 'Late', 'Mocha', 'Cappucino', 'Americano', 'Frappucino'])"
      ]
     },
     "execution_count": 21,
     "metadata": {},
     "output_type": "execute_result"
    }
   ],
   "source": [
    "# access keys and values?\n",
    "menu.keys()"
   ]
  },
  {
   "cell_type": "code",
   "execution_count": 23,
   "id": "ff283cec-193b-4a18-932f-279647cbe40f",
   "metadata": {},
   "outputs": [
    {
     "data": {
      "text/plain": [
       "dict_values([3, 120, 330, 80, 5, 400])"
      ]
     },
     "execution_count": 23,
     "metadata": {},
     "output_type": "execute_result"
    }
   ],
   "source": [
    "menu.values()"
   ]
  },
  {
   "cell_type": "code",
   "execution_count": 24,
   "id": "29e34ed0-a13f-4683-b80b-b1c45714dbc3",
   "metadata": {},
   "outputs": [],
   "source": [
    "# Functions"
   ]
  },
  {
   "cell_type": "code",
   "execution_count": 26,
   "id": "1ea7a39a-1bd2-497a-a8ad-0646e57c2419",
   "metadata": {},
   "outputs": [],
   "source": [
    " def clean_names(name_list):\n",
    "    \"Clean a list of names by removing extra spaces and fixing capital letters\"\n",
    "    cleaned = []\n",
    "    for name in name_list:\n",
    "        clean_name = name.strip().title()\n",
    "        cleaned.append(clean_name)\n",
    "    return cleaned"
   ]
  },
  {
   "cell_type": "code",
   "execution_count": 28,
   "id": "14e23e1f-04a6-48d5-b432-94d2f053522e",
   "metadata": {},
   "outputs": [
    {
     "data": {
      "text/plain": [
       "['Alice', 'Bob', 'Charlie']"
      ]
     },
     "execution_count": 28,
     "metadata": {},
     "output_type": "execute_result"
    }
   ],
   "source": [
    "messy_names = ['      alice', 'BOB', 'Charlie     ']\n",
    "clean_result = clean_names(messy_names)\n",
    "clean_result"
   ]
  },
  {
   "cell_type": "code",
   "execution_count": null,
   "id": "a4d541e4-cfa9-433b-8e94-9ae96e5f4cc2",
   "metadata": {},
   "outputs": [],
   "source": []
  }
 ],
 "metadata": {
  "kernelspec": {
   "display_name": "anaconda-2024.02-py310",
   "language": "python",
   "name": "conda-env-anaconda-2024.02-py310-py"
  },
  "language_info": {
   "codemirror_mode": {
    "name": "ipython",
    "version": 3
   },
   "file_extension": ".py",
   "mimetype": "text/x-python",
   "name": "python",
   "nbconvert_exporter": "python",
   "pygments_lexer": "ipython3",
   "version": "3.10.14"
  }
 },
 "nbformat": 4,
 "nbformat_minor": 5
}
