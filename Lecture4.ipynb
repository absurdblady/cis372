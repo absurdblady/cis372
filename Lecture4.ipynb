{
 "cells": [
  {
   "cell_type": "code",
   "execution_count": 2,
   "id": "1eebab3a",
   "metadata": {},
   "outputs": [],
   "source": [
    "import numpy as np"
   ]
  },
  {
   "cell_type": "code",
   "execution_count": 4,
   "id": "37e5233c",
   "metadata": {},
   "outputs": [
    {
     "data": {
      "text/plain": [
       "array([6. , 7.5, 8. , 0. , 1. ])"
      ]
     },
     "execution_count": 4,
     "metadata": {},
     "output_type": "execute_result"
    }
   ],
   "source": [
    "data1 = [6,7.5,8,0,1]\n",
    "arr1 = np.array(data1)\n",
    "arr1"
   ]
  },
  {
   "cell_type": "code",
   "execution_count": 5,
   "id": "f3b1f497",
   "metadata": {},
   "outputs": [
    {
     "data": {
      "text/plain": [
       "array([[1, 2, 3],\n",
       "       [4, 5, 6]])"
      ]
     },
     "execution_count": 5,
     "metadata": {},
     "output_type": "execute_result"
    }
   ],
   "source": [
    "arr2 = np.array([[1,2,3], [4,5,6]])\n",
    "arr2"
   ]
  },
  {
   "cell_type": "code",
   "execution_count": 6,
   "id": "937e23c0",
   "metadata": {},
   "outputs": [
    {
     "data": {
      "text/plain": [
       "dtype('float64')"
      ]
     },
     "execution_count": 6,
     "metadata": {},
     "output_type": "execute_result"
    }
   ],
   "source": [
    "arr1.dtype"
   ]
  },
  {
   "cell_type": "code",
   "execution_count": 7,
   "id": "b7a6ebf4",
   "metadata": {},
   "outputs": [
    {
     "data": {
      "text/plain": [
       "2"
      ]
     },
     "execution_count": 7,
     "metadata": {},
     "output_type": "execute_result"
    }
   ],
   "source": [
    "arr2.ndim"
   ]
  },
  {
   "cell_type": "markdown",
   "id": "4f5b664a",
   "metadata": {},
   "source": [
    "Placeholder Functions"
   ]
  },
  {
   "cell_type": "code",
   "execution_count": 8,
   "id": "002bcf7e",
   "metadata": {},
   "outputs": [
    {
     "data": {
      "text/plain": [
       "array([[0., 0., 0.],\n",
       "       [0., 0., 0.]])"
      ]
     },
     "execution_count": 8,
     "metadata": {},
     "output_type": "execute_result"
    }
   ],
   "source": [
    "zeros = np.zeros((2,3))\n",
    "zeros"
   ]
  },
  {
   "cell_type": "code",
   "execution_count": 9,
   "id": "1e753560",
   "metadata": {},
   "outputs": [
    {
     "data": {
      "text/plain": [
       "array([1., 1., 1., 1., 1.])"
      ]
     },
     "execution_count": 9,
     "metadata": {},
     "output_type": "execute_result"
    }
   ],
   "source": [
    "ones = np.ones(5)\n",
    "ones"
   ]
  },
  {
   "cell_type": "code",
   "execution_count": 11,
   "id": "4af4f3e0",
   "metadata": {},
   "outputs": [
    {
     "data": {
      "text/plain": [
       "array([0, 2, 4, 6, 8])"
      ]
     },
     "execution_count": 11,
     "metadata": {},
     "output_type": "execute_result"
    }
   ],
   "source": [
    "arng = np.arange(0,10,2)\n",
    "arng"
   ]
  },
  {
   "cell_type": "markdown",
   "id": "b41843f6",
   "metadata": {},
   "source": [
    "Recasting"
   ]
  },
  {
   "cell_type": "code",
   "execution_count": 12,
   "id": "59f847e6",
   "metadata": {},
   "outputs": [
    {
     "data": {
      "text/plain": [
       "dtype('int64')"
      ]
     },
     "execution_count": 12,
     "metadata": {},
     "output_type": "execute_result"
    }
   ],
   "source": [
    "arr = np.array([1,2,3,5,4])\n",
    "arr.dtype"
   ]
  },
  {
   "cell_type": "code",
   "execution_count": 14,
   "id": "3d760008",
   "metadata": {},
   "outputs": [
    {
     "data": {
      "text/plain": [
       "array([1, 2, 3, 5, 4], dtype=int32)"
      ]
     },
     "execution_count": 14,
     "metadata": {},
     "output_type": "execute_result"
    }
   ],
   "source": [
    "arr_i32 = arr.astype('int32')\n",
    "arr_i32"
   ]
  },
  {
   "cell_type": "code",
   "execution_count": 16,
   "id": "30eebdc1",
   "metadata": {},
   "outputs": [
    {
     "data": {
      "text/plain": [
       "array([1., 2., 3., 5., 4.])"
      ]
     },
     "execution_count": 16,
     "metadata": {},
     "output_type": "execute_result"
    }
   ],
   "source": [
    "arr_f64 = arr_i32.astype(np.float64)\n",
    "arr_f64"
   ]
  },
  {
   "cell_type": "markdown",
   "id": "13601137",
   "metadata": {},
   "source": [
    "Inspection\n"
   ]
  },
  {
   "cell_type": "code",
   "execution_count": 20,
   "id": "367f7efb",
   "metadata": {},
   "outputs": [
    {
     "data": {
      "text/plain": [
       "array([[ 0,  1,  2,  3],\n",
       "       [ 4,  5,  6,  7],\n",
       "       [ 8,  9, 10, 11]])"
      ]
     },
     "execution_count": 20,
     "metadata": {},
     "output_type": "execute_result"
    }
   ],
   "source": [
    "a = np.arange(12).reshape(3,4)\n",
    "a"
   ]
  },
  {
   "cell_type": "code",
   "execution_count": 21,
   "id": "6d814f6b",
   "metadata": {},
   "outputs": [
    {
     "data": {
      "text/plain": [
       "(3, 4)"
      ]
     },
     "execution_count": 21,
     "metadata": {},
     "output_type": "execute_result"
    }
   ],
   "source": [
    "a.shape"
   ]
  },
  {
   "cell_type": "code",
   "execution_count": 22,
   "id": "d784dcf3",
   "metadata": {},
   "outputs": [
    {
     "data": {
      "text/plain": [
       "2"
      ]
     },
     "execution_count": 22,
     "metadata": {},
     "output_type": "execute_result"
    }
   ],
   "source": [
    "a.ndim"
   ]
  },
  {
   "cell_type": "code",
   "execution_count": 23,
   "id": "a7771051",
   "metadata": {},
   "outputs": [
    {
     "data": {
      "text/plain": [
       "12"
      ]
     },
     "execution_count": 23,
     "metadata": {},
     "output_type": "execute_result"
    }
   ],
   "source": [
    "a.size"
   ]
  },
  {
   "cell_type": "code",
   "execution_count": 24,
   "id": "52db9407",
   "metadata": {},
   "outputs": [
    {
     "data": {
      "text/plain": [
       "3"
      ]
     },
     "execution_count": 24,
     "metadata": {},
     "output_type": "execute_result"
    }
   ],
   "source": [
    "len(a)"
   ]
  },
  {
   "cell_type": "markdown",
   "id": "331096ae",
   "metadata": {},
   "source": [
    "Random Seed and Random Functions"
   ]
  },
  {
   "cell_type": "code",
   "execution_count": 28,
   "id": "dc5ba526",
   "metadata": {},
   "outputs": [
    {
     "data": {
      "text/plain": [
       "array([ 0.49671415, -0.1382643 ,  0.64768854])"
      ]
     },
     "execution_count": 28,
     "metadata": {},
     "output_type": "execute_result"
    }
   ],
   "source": [
    "# legacy global seed\n",
    "np.random.seed(42)\n",
    "legacy_sample = np.random.randn(3)\n",
    "legacy_sample"
   ]
  },
  {
   "cell_type": "code",
   "execution_count": null,
   "id": "f4d56270",
   "metadata": {},
   "outputs": [
    {
     "data": {
      "text/plain": [
       "array([[ 0.30471708, -1.03998411,  0.7504512 ],\n",
       "       [ 0.94056472, -1.95103519, -1.30217951]])"
      ]
     },
     "execution_count": 31,
     "metadata": {},
     "output_type": "execute_result"
    }
   ],
   "source": [
    "# modern generator\n",
    "rng = np.random.default_rng(42)\n",
    "norm = rng.normal(loc = 0, scale = 1, size =(2,3))\n",
    "norm"
   ]
  },
  {
   "cell_type": "code",
   "execution_count": 32,
   "id": "486f5b4e",
   "metadata": {},
   "outputs": [
    {
     "data": {
      "text/plain": [
       "array([[1., 1., 1.],\n",
       "       [1., 1., 1.]])"
      ]
     },
     "execution_count": 32,
     "metadata": {},
     "output_type": "execute_result"
    }
   ],
   "source": [
    "uniform = rng.uniform(low=1, high=1, size=(2,3))\n",
    "uniform"
   ]
  },
  {
   "cell_type": "code",
   "execution_count": 34,
   "id": "b0a11688",
   "metadata": {},
   "outputs": [
    {
     "data": {
      "text/plain": [
       "array([7, 6, 4, 8, 5])"
      ]
     },
     "execution_count": 34,
     "metadata": {},
     "output_type": "execute_result"
    }
   ],
   "source": [
    "integers = rng.integers(0,10, size=5)\n",
    "integers"
   ]
  },
  {
   "cell_type": "markdown",
   "id": "4665bc5b",
   "metadata": {},
   "source": [
    "Array Functions"
   ]
  },
  {
   "cell_type": "code",
   "execution_count": 38,
   "id": "26e33af5",
   "metadata": {},
   "outputs": [
    {
     "data": {
      "text/plain": [
       "array([-4., -1.,  0.,  1.,  4.])"
      ]
     },
     "execution_count": 38,
     "metadata": {},
     "output_type": "execute_result"
    }
   ],
   "source": [
    "x = np.array([-4,-1,0,1,4],dtype=float)\n",
    "x"
   ]
  },
  {
   "cell_type": "code",
   "execution_count": 39,
   "id": "0f195b1c",
   "metadata": {},
   "outputs": [],
   "source": [
    "x = np.array([-4,-1,0,1,4],dtype=float)\n",
    "y = np.array([10,20,30,40,50], dtype=float)"
   ]
  },
  {
   "cell_type": "code",
   "execution_count": 40,
   "id": "a17eb07b",
   "metadata": {},
   "outputs": [
    {
     "data": {
      "text/plain": [
       "array([4., 1., 0., 1., 4.])"
      ]
     },
     "execution_count": 40,
     "metadata": {},
     "output_type": "execute_result"
    }
   ],
   "source": [
    "# unary single-array operations\n",
    "np.abs(x)"
   ]
  },
  {
   "cell_type": "code",
   "execution_count": 41,
   "id": "85250a50",
   "metadata": {},
   "outputs": [
    {
     "data": {
      "text/plain": [
       "array([2., 1., 0., 1., 2.])"
      ]
     },
     "execution_count": 41,
     "metadata": {},
     "output_type": "execute_result"
    }
   ],
   "source": [
    "np.sqrt(np.abs(x))"
   ]
  },
  {
   "cell_type": "code",
   "execution_count": 42,
   "id": "957588d0",
   "metadata": {},
   "outputs": [
    {
     "data": {
      "text/plain": [
       "array([ 6., 19., 30., 41., 54.])"
      ]
     },
     "execution_count": 42,
     "metadata": {},
     "output_type": "execute_result"
    }
   ],
   "source": [
    "# binary (multi-array) operations --> vectorized\n",
    "np.add(x,y)\n"
   ]
  },
  {
   "cell_type": "code",
   "execution_count": 43,
   "id": "0d630bdb",
   "metadata": {},
   "outputs": [
    {
     "data": {
      "text/plain": [
       "array([-40., -20.,   0.,  40., 200.])"
      ]
     },
     "execution_count": 43,
     "metadata": {},
     "output_type": "execute_result"
    }
   ],
   "source": [
    "np.multiply(x,y)"
   ]
  },
  {
   "cell_type": "code",
   "execution_count": 44,
   "id": "065ce139",
   "metadata": {},
   "outputs": [
    {
     "data": {
      "text/plain": [
       "array([16.,  1.,  0.,  1., 16.])"
      ]
     },
     "execution_count": 44,
     "metadata": {},
     "output_type": "execute_result"
    }
   ],
   "source": [
    "np.power(x,2)"
   ]
  },
  {
   "cell_type": "markdown",
   "id": "eb7c16de",
   "metadata": {},
   "source": [
    "Conditional where statement"
   ]
  },
  {
   "cell_type": "code",
   "execution_count": 46,
   "id": "cff75b16",
   "metadata": {},
   "outputs": [
    {
     "data": {
      "text/plain": [
       "array([-3, -2, -1,  0,  1,  2,  3])"
      ]
     },
     "execution_count": 46,
     "metadata": {},
     "output_type": "execute_result"
    }
   ],
   "source": [
    "arr = np.arange(-3,4)\n",
    "arr"
   ]
  },
  {
   "cell_type": "code",
   "execution_count": 47,
   "id": "20f6b46e",
   "metadata": {},
   "outputs": [
    {
     "data": {
      "text/plain": [
       "array(['negative', 'negative', 'negative', 'nonnegative', 'nonnegative',\n",
       "       'nonnegative', 'nonnegative'], dtype='<U11')"
      ]
     },
     "execution_count": 47,
     "metadata": {},
     "output_type": "execute_result"
    }
   ],
   "source": [
    "labels = np.where(arr>=0, \"nonnegative\", \"negative\")\n",
    "labels"
   ]
  },
  {
   "cell_type": "code",
   "execution_count": 48,
   "id": "0b5f8b56",
   "metadata": {},
   "outputs": [
    {
     "data": {
      "text/plain": [
       "array([0, 0, 0, 0, 1, 2, 3])"
      ]
     },
     "execution_count": 48,
     "metadata": {},
     "output_type": "execute_result"
    }
   ],
   "source": [
    "# replace negative with a 0 for isntance\n",
    "arr_nonneg = np.where(arr<0, 0, arr)\n",
    "arr_nonneg"
   ]
  },
  {
   "cell_type": "markdown",
   "id": "be1a37f5",
   "metadata": {},
   "source": [
    "Aggregate Functions"
   ]
  },
  {
   "cell_type": "code",
   "execution_count": 50,
   "id": "14400d8b",
   "metadata": {},
   "outputs": [
    {
     "data": {
      "text/plain": [
       "array([[ 1,  2,  3,  4],\n",
       "       [ 5,  6,  7,  8],\n",
       "       [ 9, 10, 11, 12]])"
      ]
     },
     "execution_count": 50,
     "metadata": {},
     "output_type": "execute_result"
    }
   ],
   "source": [
    "b = np.arange(1,13).reshape(3,4)\n",
    "b"
   ]
  },
  {
   "cell_type": "code",
   "execution_count": 51,
   "id": "7e1c7516",
   "metadata": {},
   "outputs": [
    {
     "data": {
      "text/plain": [
       "np.int64(78)"
      ]
     },
     "execution_count": 51,
     "metadata": {},
     "output_type": "execute_result"
    }
   ],
   "source": [
    "b.sum()"
   ]
  },
  {
   "cell_type": "code",
   "execution_count": 52,
   "id": "b210b52a",
   "metadata": {},
   "outputs": [
    {
     "data": {
      "text/plain": [
       "np.float64(6.5)"
      ]
     },
     "execution_count": 52,
     "metadata": {},
     "output_type": "execute_result"
    }
   ],
   "source": [
    "b.mean()"
   ]
  },
  {
   "cell_type": "code",
   "execution_count": 53,
   "id": "33122719",
   "metadata": {},
   "outputs": [
    {
     "data": {
      "text/plain": [
       "np.float64(3.452052529534663)"
      ]
     },
     "execution_count": 53,
     "metadata": {},
     "output_type": "execute_result"
    }
   ],
   "source": [
    "b.std()"
   ]
  },
  {
   "cell_type": "code",
   "execution_count": 54,
   "id": "00f6fd59",
   "metadata": {},
   "outputs": [
    {
     "data": {
      "text/plain": [
       "array([15, 18, 21, 24])"
      ]
     },
     "execution_count": 54,
     "metadata": {},
     "output_type": "execute_result"
    }
   ],
   "source": [
    "b.sum(axis=0)"
   ]
  },
  {
   "cell_type": "code",
   "execution_count": 55,
   "id": "7f9a5fc5",
   "metadata": {},
   "outputs": [
    {
     "data": {
      "text/plain": [
       "array([10, 26, 42])"
      ]
     },
     "execution_count": 55,
     "metadata": {},
     "output_type": "execute_result"
    }
   ],
   "source": [
    "b.sum(axis=1)"
   ]
  },
  {
   "cell_type": "markdown",
   "id": "1b61aedd",
   "metadata": {},
   "source": [
    "Sorting and Unique"
   ]
  },
  {
   "cell_type": "code",
   "execution_count": 60,
   "id": "fb86c4da",
   "metadata": {},
   "outputs": [
    {
     "data": {
      "text/plain": [
       "array([3, 1, 2, 3, 5, 1, 4])"
      ]
     },
     "execution_count": 60,
     "metadata": {},
     "output_type": "execute_result"
    }
   ],
   "source": [
    "d = np.array([3,1,2,3,5,1,4])\n",
    "d"
   ]
  },
  {
   "cell_type": "code",
   "execution_count": 61,
   "id": "41b33878",
   "metadata": {},
   "outputs": [
    {
     "data": {
      "text/plain": [
       "array([1, 1, 2, 3, 3, 4, 5])"
      ]
     },
     "execution_count": 61,
     "metadata": {},
     "output_type": "execute_result"
    }
   ],
   "source": [
    "np.sort(d)"
   ]
  },
  {
   "cell_type": "code",
   "execution_count": 63,
   "id": "5d9d2fd0",
   "metadata": {},
   "outputs": [
    {
     "data": {
      "text/plain": [
       "array([1, 5, 2, 0, 3, 6, 4])"
      ]
     },
     "execution_count": 63,
     "metadata": {},
     "output_type": "execute_result"
    }
   ],
   "source": [
    "np.argsort(d)"
   ]
  },
  {
   "cell_type": "code",
   "execution_count": 64,
   "id": "9ec965c7",
   "metadata": {},
   "outputs": [
    {
     "data": {
      "text/plain": [
       "array([1, 2, 3, 4, 5])"
      ]
     },
     "execution_count": 64,
     "metadata": {},
     "output_type": "execute_result"
    }
   ],
   "source": [
    "np.unique(d)"
   ]
  },
  {
   "cell_type": "markdown",
   "id": "1d731de6",
   "metadata": {},
   "source": [
    "Indexing and Slicing"
   ]
  },
  {
   "cell_type": "code",
   "execution_count": 67,
   "id": "164d9d2f",
   "metadata": {},
   "outputs": [
    {
     "data": {
      "text/plain": [
       "array([5, 6, 7])"
      ]
     },
     "execution_count": 67,
     "metadata": {},
     "output_type": "execute_result"
    }
   ],
   "source": [
    "na = np.arange(12)\n",
    "na_slice = na[5:8]\n",
    "na_slice"
   ]
  },
  {
   "cell_type": "code",
   "execution_count": 69,
   "id": "967d5375",
   "metadata": {},
   "outputs": [
    {
     "data": {
      "text/plain": [
       "array([12, 12, 12])"
      ]
     },
     "execution_count": 69,
     "metadata": {},
     "output_type": "execute_result"
    }
   ],
   "source": [
    "na_slice[:] = 12\n",
    "na_slice"
   ]
  },
  {
   "cell_type": "code",
   "execution_count": 70,
   "id": "d7e1c09a",
   "metadata": {},
   "outputs": [
    {
     "data": {
      "text/plain": [
       "array([ 0,  1,  2,  3,  4, 12, 12, 12,  8,  9, 10, 11])"
      ]
     },
     "execution_count": 70,
     "metadata": {},
     "output_type": "execute_result"
    }
   ],
   "source": [
    "na"
   ]
  },
  {
   "cell_type": "code",
   "execution_count": 71,
   "id": "9e220a7e",
   "metadata": {},
   "outputs": [
    {
     "data": {
      "text/plain": [
       "array([[ 1,  2,  3,  4],\n",
       "       [ 5,  6,  7,  8],\n",
       "       [ 9, 10, 11, 12]])"
      ]
     },
     "execution_count": 71,
     "metadata": {},
     "output_type": "execute_result"
    }
   ],
   "source": [
    "# multidimensial indexing\n",
    "m = np.arange(1,13).reshape(3,4)\n",
    "m"
   ]
  },
  {
   "cell_type": "code",
   "execution_count": 72,
   "id": "b01fa63e",
   "metadata": {},
   "outputs": [
    {
     "data": {
      "text/plain": [
       "np.int64(7)"
      ]
     },
     "execution_count": 72,
     "metadata": {},
     "output_type": "execute_result"
    }
   ],
   "source": [
    "# row 1, col 2\n",
    "m[1,2]"
   ]
  },
  {
   "cell_type": "code",
   "execution_count": 73,
   "id": "b086594b",
   "metadata": {},
   "outputs": [
    {
     "data": {
      "text/plain": [
       "array([[2, 3],\n",
       "       [6, 7]])"
      ]
     },
     "execution_count": 73,
     "metadata": {},
     "output_type": "execute_result"
    }
   ],
   "source": [
    "# rows 0-2 and columns 1-3\n",
    "m[0:2, 1:3]"
   ]
  },
  {
   "cell_type": "code",
   "execution_count": 74,
   "id": "e203406b",
   "metadata": {},
   "outputs": [
    {
     "data": {
      "text/plain": [
       "array([1, 5, 9])"
      ]
     },
     "execution_count": 74,
     "metadata": {},
     "output_type": "execute_result"
    }
   ],
   "source": [
    "# first column\n",
    "m[:,0]"
   ]
  },
  {
   "cell_type": "code",
   "execution_count": 75,
   "id": "68e9053b",
   "metadata": {},
   "outputs": [
    {
     "data": {
      "text/plain": [
       "array([[ 1,  3],\n",
       "       [ 9, 11]])"
      ]
     },
     "execution_count": 75,
     "metadata": {},
     "output_type": "execute_result"
    }
   ],
   "source": [
    "# every other row\n",
    "m[::2, ::2]"
   ]
  },
  {
   "cell_type": "markdown",
   "id": "a9508a6b",
   "metadata": {},
   "source": [
    "Boolean Indexing"
   ]
  },
  {
   "cell_type": "code",
   "execution_count": 76,
   "id": "d28ee3f8",
   "metadata": {},
   "outputs": [],
   "source": [
    "scores = np.array([88, 92, 67, 73, 95, 81, 60])\n",
    "passed = scores >= 70"
   ]
  },
  {
   "cell_type": "code",
   "execution_count": 77,
   "id": "e86b5ca5",
   "metadata": {},
   "outputs": [
    {
     "data": {
      "text/plain": [
       "array([ True,  True, False,  True,  True,  True, False])"
      ]
     },
     "execution_count": 77,
     "metadata": {},
     "output_type": "execute_result"
    }
   ],
   "source": [
    "passed"
   ]
  },
  {
   "cell_type": "code",
   "execution_count": 78,
   "id": "75c554c6",
   "metadata": {},
   "outputs": [],
   "source": [
    "# set all failing scores <70 to 70\n",
    "scores2 = scores.copy()"
   ]
  },
  {
   "cell_type": "code",
   "execution_count": 79,
   "id": "7bb0c7c9",
   "metadata": {},
   "outputs": [
    {
     "name": "stdout",
     "output_type": "stream",
     "text": [
      "curves applied:  [88 92 70 73 95 81 70]\n"
     ]
    }
   ],
   "source": [
    "scores2[scores2 < 70] = 70\n",
    "print(\"curves applied: \", scores2)"
   ]
  },
  {
   "cell_type": "markdown",
   "id": "35edc4e8",
   "metadata": {},
   "source": [
    "Code Challenge"
   ]
  },
  {
   "cell_type": "code",
   "execution_count": 57,
   "id": "e85ebc56",
   "metadata": {},
   "outputs": [
    {
     "name": "stdout",
     "output_type": "stream",
     "text": [
      "Data1:\n",
      " [[0.58779155 0.06309849 0.49710274 0.92839462]\n",
      " [0.80603084 0.19839124 0.34528354 0.53473647]\n",
      " [0.97858347 0.5030445  0.3474475  0.21278653]\n",
      " [0.17745402 0.1040286  0.18745545 0.04031375]\n",
      " [0.23991727 0.5462427  0.20778317 0.99270398]]\n",
      "\n",
      "Sum: 8.49859045227224\n",
      "Average: 0.42492952261361194\n",
      "Standard Deviation: 0.2984748713954923\n",
      "Variance: 0.08908724885455566\n",
      "\n",
      "Binary Data:\n",
      " [[1 0 0 1]\n",
      " [1 0 0 1]\n",
      " [1 1 0 0]\n",
      " [0 0 0 0]\n",
      " [0 1 0 1]]\n"
     ]
    }
   ],
   "source": [
    "import numpy as np\n",
    "\n",
    "# 1. create a 5x4 NumPy array\n",
    "data1 = np.random.rand(5, 4)   # 5 rows, 4 columns with random values [0,1)\n",
    "\n",
    "print(\"Data1:\\n\", data1)\n",
    "\n",
    "# 2. the numbers are already from a uniform distribution [0,1)\n",
    "# (np.random.rand generates uniform random numbers)\n",
    "\n",
    "# 3. sum, average, std, variance\n",
    "print(\"\\nSum:\", np.sum(data1))\n",
    "print(\"Average:\", np.mean(data1))\n",
    "print(\"Standard Deviation:\", np.std(data1))\n",
    "print(\"Variance:\", np.var(data1))\n",
    "\n",
    "# 4. create an object with 1s and 0s based on condition\n",
    "binary_data = np.where(data1 >= 0.5, 1, 0)\n",
    "print(\"\\nBinary Data:\\n\", binary_data)\n"
   ]
  },
  {
   "cell_type": "markdown",
   "id": "af8c741b",
   "metadata": {},
   "source": [
    "Code Challenge"
   ]
  },
  {
   "cell_type": "code",
   "execution_count": 35,
   "id": "833552d7",
   "metadata": {},
   "outputs": [],
   "source": [
    "np.random.seed(89)"
   ]
  },
  {
   "cell_type": "code",
   "execution_count": 37,
   "id": "74dc5fae",
   "metadata": {},
   "outputs": [
    {
     "data": {
      "text/plain": [
       "array([[[7, 4, 4],\n",
       "        [4, 5, 5],\n",
       "        [8, 6, 6]],\n",
       "\n",
       "       [[6, 6, 8],\n",
       "        [1, 3, 4],\n",
       "        [6, 6, 7]],\n",
       "\n",
       "       [[8, 6, 6],\n",
       "        [6, 5, 4],\n",
       "        [5, 6, 9]]], dtype=int32)"
      ]
     },
     "execution_count": 37,
     "metadata": {},
     "output_type": "execute_result"
    }
   ],
   "source": [
    "# create a random generator with a specific state\n",
    "rng = np.random.RandomState(12345)\n",
    "\n",
    "# binomial distribution: n=10 trials, p=0.5 probability, shape=3x3x3\n",
    "binomial_array = rng.binomial(n=10, p=0.5, size=(3, 3, 3))\n",
    "binomial_array\n"
   ]
  },
  {
   "cell_type": "markdown",
   "id": "14281c8c",
   "metadata": {},
   "source": [
    "Code Challenge"
   ]
  },
  {
   "cell_type": "code",
   "execution_count": 58,
   "id": "dc89dd84",
   "metadata": {},
   "outputs": [
    {
     "name": "stdout",
     "output_type": "stream",
     "text": [
      "Original array:\n",
      " [   1    2    3    4    5    6    7    8    9   10 2021 2021 2021 2021\n",
      "   15   16   17   18   19   20]\n",
      "\n",
      "Sliced array:\n",
      " [2021 2021 2021 2021]\n"
     ]
    }
   ],
   "source": [
    "import numpy as np\n",
    "\n",
    "# create a NumPy array with 20 numbers\n",
    "arr = np.arange(1, 21)   # array([ 1,  2,  3, ..., 20])\n",
    "\n",
    "# slice items 11-14 (note: Python uses 0-based indexing, so these are indices 10:14)\n",
    "arrslice = arr[10:14]\n",
    "\n",
    "# change all items in the slice to 2021\n",
    "arrslice[:] = 2021\n",
    "\n",
    "# print original array\n",
    "print(\"Original array:\\n\", arr)\n",
    "\n",
    "# did the original list change?\n",
    "print(\"\\nSliced array:\\n\", arrslice)\n"
   ]
  },
  {
   "cell_type": "code",
   "execution_count": null,
   "id": "aad47a6c",
   "metadata": {},
   "outputs": [],
   "source": []
  }
 ],
 "metadata": {
  "kernelspec": {
   "display_name": "Python 3",
   "language": "python",
   "name": "python3"
  },
  "language_info": {
   "codemirror_mode": {
    "name": "ipython",
    "version": 3
   },
   "file_extension": ".py",
   "mimetype": "text/x-python",
   "name": "python",
   "nbconvert_exporter": "python",
   "pygments_lexer": "ipython3",
   "version": "3.13.7"
  }
 },
 "nbformat": 4,
 "nbformat_minor": 5
}
